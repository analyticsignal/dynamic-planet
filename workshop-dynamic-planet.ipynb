{
 "cells": [
  {
   "attachments": {},
   "cell_type": "markdown",
   "metadata": {},
   "source": [
    "# Workshop: Digital Data for a Dynamic Planet  \n",
    "\n",
    "### *Exploring Digital Data for Plate Tectonics, Seismicity, and Volcanism on a Dynamic Planet*\n",
    "\n",
    "---  \n",
    "## 1. Objectives\n",
    "\n",
    "The objecive is to make a map of the Earth showing the global distribution of tectonic plates, volcanoes, and earthquakes.\n",
    "\n",
    "The purpose is to learn something about the geosciences in parallel with developing data skills.\n"
   ]
  },
  {
   "attachments": {},
   "cell_type": "markdown",
   "metadata": {},
   "source": [
    "---\n",
    "## 2. Data sources\n",
    "\n",
    "The data sources for this map are:\n",
    "\n",
    "### 2.1 Global Plate Boundaries\n",
    "\n",
    "The digital data are provided by [Fraxen GitHub](https://github.com/fraxen/tectonicplates) based on the model described in [Bird 2003](http://peterbird.name/publications/2003_PB2002/2001GC000252.pdf).\n",
    "\n",
    "### 2.2 Smithsonian Institution Global Volcanism Program\n",
    "\n",
    "The Global Volcanism Program database currently contains 1422 volcanoes with eruptions during the Holocene period (approximately the last 10,000 years). The database can be downloaded here \n",
    "\n",
    "Holocene\n",
    "\n",
    "https://volcano.si.edu/database/list_volcano_holocene_excel.cfm\n",
    "\n",
    "[https://volcano.si.edu/list_volcano_holocene.cfm](https://volcano.si.edu/list_volcano_holocene.cfm).\n",
    "\n",
    "Pleistocene \n",
    "\n",
    "[https://volcano.si.edu/list_volcano_pleistocene.cfm](https://volcano.si.edu/list_volcano_pleistocene.cfm)\n",
    "\n",
    "Global Volcanism Program, 2013. Volcanoes of the World, v. 4.9.0. Venzke, E (ed.). Smithsonian Institution. Downloaded 21 Jun 2020. https://doi.org/10.5479/si.GVP.VOTW4-2013\n",
    "\n",
    "Global Volcanism Program, 2013. Volcanoes of the World, v. 4.10.1. Venzke, E (ed.). Smithsonian Institution. Downloaded 8 Aug 2021. https://doi.org/10.5479/si.GVP.VOTW4-2013\n",
    "\n",
    "### 2.3 Hydrothermal Vent Fields  \n",
    "\n",
    "https://vents-data.interridge.org/about_the_database\n",
    "\n",
    "Click this link to download the database:\n",
    "\n",
    "https://vents-data.interridge.org/ventfields_list_all_CSV\n",
    "\n",
    "### 2.4 Global Earthquake Epicenters from the United States Geological Survey (USGS)\n",
    "\n",
    "[API Documentation]('https://earthquake.usgs.gov/fdsnws/event/1/')\n"
   ]
  },
  {
   "attachments": {},
   "cell_type": "markdown",
   "metadata": {},
   "source": [
    "---\n",
    "## 3. Getting started"
   ]
  },
  {
   "cell_type": "markdown",
   "metadata": {},
   "source": [
    "Import required modules."
   ]
  },
  {
   "cell_type": "code",
   "execution_count": null,
   "metadata": {},
   "outputs": [],
   "source": [
    "import plotly.express as px\n",
    "import plotly.graph_objects as go\n",
    "import plotly.io as pio \n",
    "import pandas as pd\n",
    "import numpy as np\n",
    "\n",
    "import json\n",
    "from flatten_geojson import flatten_geojson"
   ]
  },
  {
   "cell_type": "markdown",
   "metadata": {},
   "source": [
    "Set the default renderer and template."
   ]
  },
  {
   "cell_type": "code",
   "execution_count": null,
   "metadata": {},
   "outputs": [],
   "source": [
    "pio.renderers.default = 'notebook+png'\n",
    "pio.templates.default = 'plotly_dark'"
   ]
  },
  {
   "cell_type": "markdown",
   "metadata": {},
   "source": [
    "Read the mapbox access token from file."
   ]
  },
  {
   "cell_type": "code",
   "execution_count": null,
   "metadata": {},
   "outputs": [],
   "source": [
    "with open('./mapbox-access-token.txt') as f:\n",
    "    token = f.read()"
   ]
  },
  {
   "cell_type": "markdown",
   "metadata": {},
   "source": [
    "---\n",
    "### Read Global Tectonic Plates data"
   ]
  },
  {
   "cell_type": "code",
   "execution_count": null,
   "metadata": {},
   "outputs": [],
   "source": [
    "#\n",
    "# load global tectonic plates from (.json) file:\n",
    "#\n",
    "with open('./data/plates/GeoJSON/PB2002_plates.json','r') as f:\n",
    "    plates = json.load(f)\n",
    "\n",
    "#\n",
    "# load orogens data from (.json) file:\n",
    "#\n",
    "with open('./data/plates/GeoJSON/PB2002_orogens.json','r') as f:\n",
    "    orogens = json.load(f)\n",
    "\n",
    "df_plates = flatten_geojson(plates)\n",
    "df_orogens = flatten_geojson(orogens)"
   ]
  },
  {
   "attachments": {},
   "cell_type": "markdown",
   "metadata": {},
   "source": [
    "Examples of using list comprehensions to pick apart the plates and orogens nested data structures."
   ]
  },
  {
   "cell_type": "code",
   "execution_count": null,
   "metadata": {},
   "outputs": [],
   "source": [
    "[feature['properties']['PlateName'] for feature in plates['features']]"
   ]
  },
  {
   "attachments": {},
   "cell_type": "markdown",
   "metadata": {},
   "source": [
    "Get the properties of the North Bismarck plate."
   ]
  },
  {
   "cell_type": "code",
   "execution_count": null,
   "metadata": {},
   "outputs": [],
   "source": [
    "[feature['properties'] for feature in plates['features'] if feature['properties']['PlateName'] == 'North Bismarck']"
   ]
  },
  {
   "attachments": {},
   "cell_type": "markdown",
   "metadata": {},
   "source": [
    "Now get the geometry of North Bismarck, down to the level of the `coordinates` lists. "
   ]
  },
  {
   "cell_type": "code",
   "execution_count": null,
   "metadata": {},
   "outputs": [],
   "source": [
    "[feature['geometry']['coordinates'] for feature in plates['features'] if feature['properties']['PlateName'] == 'North Bismarck']"
   ]
  },
  {
   "cell_type": "markdown",
   "metadata": {},
   "source": [
    "Let's see the first few records of the plates data."
   ]
  },
  {
   "cell_type": "code",
   "execution_count": null,
   "metadata": {},
   "outputs": [],
   "source": [
    "df_plates.head()"
   ]
  },
  {
   "cell_type": "markdown",
   "metadata": {},
   "source": [
    "And the first few rows of the orogens data."
   ]
  },
  {
   "cell_type": "code",
   "execution_count": null,
   "metadata": {},
   "outputs": [],
   "source": [
    "df_orogens.head()"
   ]
  },
  {
   "cell_type": "markdown",
   "metadata": {},
   "source": [
    "---\n",
    "### Read Global Volcanism Program data"
   ]
  },
  {
   "cell_type": "code",
   "execution_count": null,
   "metadata": {
    "tags": []
   },
   "outputs": [],
   "source": [
    "df_volcanoes = pd.read_csv('./data/volcanoes/GVP_Volcano_List_Holocene.csv')\n",
    "df_volcanoes['Period'] = 'Holocene'\n",
    "df_volcanoes.info()"
   ]
  },
  {
   "cell_type": "markdown",
   "metadata": {},
   "source": [
    "Let's see the first few records of the GVP data."
   ]
  },
  {
   "cell_type": "code",
   "execution_count": null,
   "metadata": {},
   "outputs": [],
   "source": [
    "df_volcanoes.head()"
   ]
  },
  {
   "cell_type": "markdown",
   "metadata": {},
   "source": [
    "What volcano types are there?"
   ]
  },
  {
   "cell_type": "code",
   "execution_count": null,
   "metadata": {},
   "outputs": [],
   "source": [
    "df_volcanoes['Primary Volcano Type'].value_counts()"
   ]
  },
  {
   "cell_type": "markdown",
   "metadata": {},
   "source": [
    "What are the dominant rock types?"
   ]
  },
  {
   "cell_type": "code",
   "execution_count": null,
   "metadata": {},
   "outputs": [],
   "source": [
    "df_volcanoes['Dominant Rock Type'].value_counts()"
   ]
  },
  {
   "cell_type": "markdown",
   "metadata": {},
   "source": [
    "What tectonic settings are there?"
   ]
  },
  {
   "cell_type": "code",
   "execution_count": null,
   "metadata": {},
   "outputs": [],
   "source": [
    "df_volcanoes['Tectonic Setting'].value_counts()"
   ]
  },
  {
   "cell_type": "code",
   "execution_count": null,
   "metadata": {},
   "outputs": [],
   "source": [
    "fig66 = px.box(data_frame=df_volcanoes, x='Elevation (m)', y='Dominant Rock Type')\n",
    "fig66.show()\n"
   ]
  },
  {
   "attachments": {},
   "cell_type": "markdown",
   "metadata": {},
   "source": [
    "Whats the relationship between `Tectonic Setting` and `Dominant Rock Type`?"
   ]
  },
  {
   "cell_type": "code",
   "execution_count": null,
   "metadata": {},
   "outputs": [],
   "source": [
    "xt = pd.crosstab(index=df_volcanoes['Tectonic Setting'],columns=df_volcanoes['Dominant Rock Type'],margins=True)\n",
    "\n",
    "fig = px.imshow(img=xt, aspect='auto', zmin=0, zmax=200, color_continuous_scale='blackbody')\n",
    "fig.update_traces(\n",
    "    zsmooth=None,\n",
    "    hovertemplate='x: %{x}<br>y: %{y}<br>z: %{z:.3f}<extra></extra>'\n",
    ")\n",
    "fig.show()\n"
   ]
  },
  {
   "cell_type": "markdown",
   "metadata": {},
   "source": [
    "---\n",
    "### Read Pleistocene Volcanoes"
   ]
  },
  {
   "cell_type": "code",
   "execution_count": null,
   "metadata": {},
   "outputs": [],
   "source": [
    "df_pleistocene_volcanoes = pd.read_csv('./data/volcanoes/GVP_Volcano_List_Pleistocene.csv')\n",
    "df_pleistocene_volcanoes['Period'] = 'Pleistocene'\n",
    "df_pleistocene_volcanoes.info()"
   ]
  },
  {
   "cell_type": "code",
   "execution_count": null,
   "metadata": {},
   "outputs": [],
   "source": [
    "df_volcanoes = pd.concat([df_volcanoes,df_pleistocene_volcanoes])\n",
    "df_volcanoes.info()"
   ]
  },
  {
   "cell_type": "markdown",
   "metadata": {},
   "source": [
    "Fix some issues with missing values."
   ]
  },
  {
   "cell_type": "code",
   "execution_count": null,
   "metadata": {},
   "outputs": [],
   "source": [
    "mask = df_volcanoes['Dominant Rock Type'].isna()\n",
    "df_volcanoes.loc[mask,'Dominant Rock Type'] = 'Unknown'\n",
    "\n",
    "mask = df_volcanoes['Last Known Eruption'].isna()\n",
    "df_volcanoes.loc[mask,'Last Known Eruption'] = 'Unknown'"
   ]
  },
  {
   "cell_type": "markdown",
   "metadata": {},
   "source": [
    "---\n",
    "### Download Earthquake data from USGS\n",
    "\n",
    "We choose a date range and magnitude limit of interest, and then talk directly to the USGS database server to download the data. There are limits to the amount of data that can be downloaded at one time so we break it into chunks. "
   ]
  },
  {
   "cell_type": "code",
   "execution_count": null,
   "metadata": {},
   "outputs": [],
   "source": [
    "from datetime import date, timedelta\n",
    "from datetime import datetime\n",
    "\n",
    "#\n",
    "# define minimum magnitude of interest:\n",
    "#\n",
    "min_magnitude = 4.2\n",
    "\n",
    "#\n",
    "# define a time window that starts 10 years ago and ends now:\n",
    "#\n",
    "download_date = datetime.now() \n",
    "\n",
    "last_date = download_date\n",
    "first_date = last_date.replace(year=last_date.year - 5)\n",
    "\n",
    "#\n",
    "# download step size:\n",
    "#\n",
    "delta = timedelta(days=90)"
   ]
  },
  {
   "cell_type": "code",
   "execution_count": null,
   "metadata": {
    "tags": []
   },
   "outputs": [],
   "source": [
    "from urllib.parse import urlencode\n",
    "\n",
    "#\n",
    "# create an empty dataset to hold the download:\n",
    "#\n",
    "df_eq = pd.DataFrame()\n",
    "total_events = 0\n",
    "\n",
    "while last_date >= first_date:\n",
    "    #\n",
    "    # construct the time window for the current chunk:\n",
    "    #\n",
    "    end_str    = last_date.strftime(\"%Y-%m-%d\")\n",
    "    last_date -= delta\n",
    "    start_str  = last_date.strftime(\"%Y-%m-%d\")\n",
    "    \n",
    "    #\n",
    "    # define the search parameters:\n",
    "    #\n",
    "    params = {\n",
    "        'starttime': start_str+' 00:00:00',\n",
    "        'endtime':     end_str+' 24:00:00',\n",
    "        'minmagnitude': min_magnitude,\n",
    "        'orderby': 'time'\n",
    "    }\n",
    "\n",
    "    #\n",
    "    # encode the search parameters as a query string:\n",
    "    #\n",
    "    query = urlencode(params)\n",
    "\n",
    "    #\n",
    "    # get the chunk from the USGS database:\n",
    "    #\n",
    "    print('searching events from', start_str, 'to', end_str)\n",
    "    df_query = pd.read_csv('https://earthquake.usgs.gov/fdsnws/event/1/query.csv?'+query)\n",
    "    df_query = df_query[['depth','time','latitude','longitude','mag','place']]\n",
    "\n",
    "    #\n",
    "    # get number of events in this chunk and update the running total:\n",
    "    #\n",
    "    chunk_events = df_query.shape[0]\n",
    "    total_events += chunk_events\n",
    "    print('\\tfound {chunk} (running total {total})'.format(total=total_events,chunk=chunk_events))\n",
    "\n",
    "    #\n",
    "    # append the latest chunk to the dataset:\n",
    "    #\n",
    "    df_eq = pd.concat((df_eq,df_query))\n",
    "\n",
    "print('Total number of earthquakes:',total_events)\n",
    "print('Data downloaded: ', download_date.strftime(\"%d %b %Y\"))\n"
   ]
  },
  {
   "cell_type": "markdown",
   "metadata": {},
   "source": [
    "Check what variables there are in the downloaded data."
   ]
  },
  {
   "cell_type": "code",
   "execution_count": null,
   "metadata": {
    "tags": []
   },
   "outputs": [],
   "source": [
    "df_eq.info()"
   ]
  },
  {
   "cell_type": "markdown",
   "metadata": {},
   "source": [
    "Let's see the first few records of the earthquake data."
   ]
  },
  {
   "cell_type": "code",
   "execution_count": null,
   "metadata": {},
   "outputs": [],
   "source": [
    "df_eq.head()"
   ]
  },
  {
   "cell_type": "markdown",
   "metadata": {},
   "source": [
    "Convert the event times into a proper date/time representation."
   ]
  },
  {
   "cell_type": "code",
   "execution_count": null,
   "metadata": {},
   "outputs": [],
   "source": [
    "df_eq.time = pd.to_datetime(df_eq.time)"
   ]
  },
  {
   "cell_type": "markdown",
   "metadata": {},
   "source": [
    "Report a statistical summary of the data."
   ]
  },
  {
   "cell_type": "code",
   "execution_count": null,
   "metadata": {},
   "outputs": [],
   "source": [
    "df_eq.describe(include='all',datetime_is_numeric=True).round(3)"
   ]
  },
  {
   "cell_type": "markdown",
   "metadata": {},
   "source": [
    "Find the times of the first and last events."
   ]
  },
  {
   "cell_type": "code",
   "execution_count": null,
   "metadata": {},
   "outputs": [],
   "source": [
    "df_eq_start_time = df_eq.time.min().strftime('%d %b %Y')\n",
    "df_eq_end_time = df_eq.time.max().strftime('%d %b %Y')\n",
    "df_eq_download_date = download_date.strftime('%d %b %Y')\n",
    "\n",
    "#df_eq.time = df_eq.time.dt.strftime(\"%Y-%m-%d\")\n",
    "df_eq.time = df_eq.time.dt.strftime(\"%d %B %Y, %H:%M:%S\")"
   ]
  },
  {
   "cell_type": "markdown",
   "metadata": {},
   "source": [
    "Store the earthquakes data to file just in case we want to use it again without doing the download."
   ]
  },
  {
   "cell_type": "code",
   "execution_count": null,
   "metadata": {},
   "outputs": [],
   "source": [
    "df_eq.to_csv('./data/earthquakes/usgs-latest-5yr.csv', index=False)"
   ]
  },
  {
   "cell_type": "code",
   "execution_count": null,
   "metadata": {},
   "outputs": [],
   "source": [
    "fig1 = px.histogram(data_frame = df_eq, x = 'mag', log_y=True, nbins=50)\n",
    "fig1.show()\n"
   ]
  },
  {
   "cell_type": "code",
   "execution_count": null,
   "metadata": {},
   "outputs": [],
   "source": [
    "show_scatter_3d = False\n",
    "\n",
    "if show_scatter_3d:\n",
    "    fig2 = px.scatter_3d(data_frame = df_eq, x = 'longitude', y = 'latitude', z = 'depth', size = 'mag')\n",
    "    fig2.show(renderer='browser')\n"
   ]
  },
  {
   "cell_type": "markdown",
   "metadata": {},
   "source": [
    "---\n",
    "### Create map of plates, volcanoes, and earthquakes\n",
    "\n",
    "Create an initial map (which starts out blank except for the underlying imagery) then progressively add data and style the cosmetics to build up the final product."
   ]
  },
  {
   "cell_type": "code",
   "execution_count": null,
   "metadata": {},
   "outputs": [],
   "source": [
    "#\n",
    "# which layers are visible in the map:\n",
    "#\n",
    "show_plates      = True\n",
    "show_boundaries  = True\n",
    "show_orogens     = True\n",
    "show_earthquakes = True\n",
    "show_volcanoes   = True\n",
    "show_pleistocene_volcanoes = True\n",
    "show_attribution = True\n",
    "show_watermark   = False\n",
    "\n",
    "#\n",
    "# define colour scales:\n",
    "#\n",
    "blank_colorscale = [[0, 'rgba(255,255,255,0.0)'], [1, 'rgba(255,255,255,0.0)']]\n",
    "orogen_colorscale  = [[0, 'BurlyWood'], [1, 'BurlyWood']]\n",
    "boundary_colorscale  = [[0, 'Yellow'], [1, 'Yellow']]\n",
    "\n",
    "#\n",
    "# create empty figure and add layers as appropriate:\n",
    "#\n",
    "fig = go.Figure()\n",
    "\n",
    "if show_plates:\n",
    "    fig.add_choroplethmapbox(geojson=plates,locations=df_plates.id,z=df_plates.id,\n",
    "        name='Plates (after Bird, 2003)',\n",
    "        colorscale=px.colors.qualitative.Light24*2,\n",
    "        visible=True,\n",
    "        marker_opacity=0.5,\n",
    "        marker_line_width=0,\n",
    "        marker_line_color='Yellow',\n",
    "        showlegend=True,\n",
    "        showscale=False,\n",
    "        hovertext=df_plates.PlateName,\n",
    "        hovertemplate='Plate: %{hovertext}<extra></extra>')\n",
    "\n",
    "if show_boundaries:\n",
    "    fig.add_choroplethmapbox(geojson=plates,locations=df_plates.id,z=df_plates.id,\n",
    "        name='Plate boundaries',\n",
    "        colorscale=boundary_colorscale,\n",
    "        visible=True,\n",
    "        marker_opacity=0,\n",
    "        marker_line_width=0,\n",
    "        marker_line_color='Yellow',\n",
    "        showlegend=True,\n",
    "        legendgroup='Boundaries',\n",
    "        showscale=False,\n",
    "        hovertext=df_plates.PlateName,\n",
    "        hovertemplate='Plate: %{hovertext}<extra></extra>')\n",
    "\n",
    "    fig.add_choroplethmapbox(geojson=plates,locations=df_plates.id,z=df_plates.id,\n",
    "        name='Plate boundaries',\n",
    "        colorscale=blank_colorscale,\n",
    "        visible=True,\n",
    "        marker_opacity=1,\n",
    "        marker_line_width=1.0,\n",
    "        marker_line_color='Yellow',\n",
    "        showlegend=False,\n",
    "        legendgroup='Boundaries',\n",
    "        showscale=False,\n",
    "        hovertext=df_plates.PlateName,\n",
    "        hovertemplate='Plate: %{hovertext}<extra></extra>')\n",
    "\n",
    "if show_orogens:\n",
    "    fig.add_choroplethmapbox(geojson=orogens,locations=df_orogens.id,z=df_orogens.id,\n",
    "        name='Orogens',\n",
    "        colorscale=orogen_colorscale,\n",
    "        visible=True,\n",
    "        marker_opacity=0.5,\n",
    "        marker_line_width=1.0,\n",
    "        marker_line_color='white',\n",
    "        showlegend=True,\n",
    "        showscale=False,\n",
    "        hovertext=df_orogens.Name,\n",
    "        hovertemplate='Orogen: %{hovertext}<extra></extra>')\n",
    "\n",
    "if show_earthquakes:\n",
    "    name = '<br>Global Earthquakes<br>United States Geological Survey<br>{events} events M<sub>L</sub> > {mag}<br>{start} to {end}<br>'\n",
    "    name = name.format(events=df_eq.shape[0],mag=min_magnitude,start=df_eq_start_time,end=df_eq_end_time)\n",
    "\n",
    "#        z=df_eq.mag,\n",
    "\n",
    "    fig.add_densitymapbox(name=name,lat=df_eq.latitude, lon=df_eq.longitude,\n",
    "        z=df_eq.mag, \n",
    "        below='',\n",
    "        colorscale='plasma',\n",
    "        opacity=1.0,\n",
    "        radius=5,        \n",
    "        showlegend=True,\n",
    "        showscale=False,\n",
    "        customdata=df_eq,\n",
    "        hovertemplate='Earthquake: %{customdata[5]}<br>Magnitude: %{z}<br>Depth: %{customdata[0]} km<br>Date: %{customdata[1]}<br>Coords: %{lon:.3f}&deg;E, %{lat:.3f}&deg;N<extra></extra>'\n",
    ")\n",
    "\n",
    "if show_volcanoes:\n",
    "    df_volcanoes_display = df_volcanoes[['Volcano Name', 'Country', 'Primary Volcano Type', 'Elevation (m)', 'Last Known Eruption', 'Dominant Rock Type', 'Tectonic Setting', 'Period']]\n",
    "    fig.add_scattermapbox(name='Global Volcanism<br>Holocene (< 11,650 years)<br>Pleistocene (< 2.5 million years)',lat=df_volcanoes.Latitude, lon=df_volcanoes.Longitude,\n",
    "        marker_size=6,\n",
    "        marker_color='orangered',\n",
    "        customdata=df_volcanoes_display,\n",
    "        hovertemplate='Volcano: <b>%{customdata[0]}</b><br>Country: %{customdata[1]}<br>Type: %{customdata[2]}<br>Period: %{customdata[7]}<br>Elevation: %{customdata[3]} m<br>Last known eruption: %{customdata[4]}<br>Dominant rock type: %{customdata[5]}<br>Tectonic setting: %{customdata[6]}<br>Coords: %{lon:.3f}&deg;E, %{lat:.3f}&deg;N<extra></extra>')\n",
    "\n",
    "#\n",
    "# attribution statement:\n",
    "#\n",
    "if show_attribution:\n",
    "    fig.add_annotation(\n",
    "            x=+0.05,\n",
    "            y=+0.005,\n",
    "            showarrow=False,\n",
    "            text=\"Data sources:<br>Bird, P., 2003. An updated digital model of plate boundaries, <i>Geochem. Geophys. Geosyst.</i>, 4(3), 1027, doi:10.1029//2001GC00025<br>Contains information from <a href='https://github.com/fraxen/tectonicplates'>Hugo Ahlenius (nordpil.com)</a> which is made available under the <a href='https://opendatacommons.org/licenses/by/1.0/'>ODC Attribution License.</a><br>United States Geological Survey Earthquake Hazards Program. Downloaded {downloaded}. <a href='https://earthquake.usgs.gov/earthquakes/search/'>https://earthquake.usgs.gov/earthquakes/search/</a><br>Global Volcanism Program, 2013. Volcanoes of the World, v. 4.10.1. Venzke, E (ed.). Smithsonian Institution. Downloaded 8 Aug 2021. <a href='https://doi.org/10.5479/si.GVP.VOTW4-2013'>https://doi.org/10.5479/si.GVP.VOTW4-2013</a>\".format(downloaded=df_eq_download_date),\n",
    "            align='left',\n",
    "            font_color='white',\n",
    "            font_size=8,\n",
    "            font_family='Arial',\n",
    "            xref=\"paper\",\n",
    "            yref=\"paper\",\n",
    "            xanchor='left',\n",
    "            yanchor='bottom'\n",
    "    )\n",
    "\n",
    "#\n",
    "# watermark:\n",
    "#\n",
    "if show_watermark:\n",
    "    fig.add_annotation(\n",
    "        x=0.5,\n",
    "        y=0.5,\n",
    "        showarrow=False,\n",
    "        text='analytic-signal/data-science',\n",
    "        font_color='Gray',\n",
    "        font_size=72,\n",
    "        font_family='Futura',\n",
    "        opacity=0.1,\n",
    "        xref='paper',\n",
    "        yref='paper',\n",
    "    )\n",
    "\n",
    "#\n",
    "# choose the style of the underlying satellite/cultural imagery:\n",
    "#\n",
    "fig.update_layout(mapbox_style='satellite-streets', mapbox_accesstoken=token)\n",
    "\n",
    "#\n",
    "# margin - remove the figure margins so that the data fills the entire display area\n",
    "# showlegend - make the legend visible\n",
    "# legend_title_text - set a title for the legend\n",
    "# legend_x, legend_y - set the legend position relative to bottom left corner of the figure; save space by positioning the legend inside the display area\n",
    "#\n",
    "fig.update_layout(margin={\"r\":0,\"t\":0,\"l\":0,\"b\":0},\n",
    "    showlegend=True,\n",
    "    legend_title_text='Global Plate Tectonics,<br>Seismicity and Volcanism<br>',\n",
    "    legend_title_font_color='white',\n",
    "    legend_title_font_size=12,\n",
    "    legend_title_font_family='Arial',\n",
    "    legend_font_size=8,\n",
    "    legend_bgcolor='rgba(0,0,0,0.5)',\n",
    "    legend_xanchor='right',\n",
    "    legend_x=1.0,\n",
    "    legend_y=0.0\n",
    ")\n",
    "\n",
    "#\n",
    "# display figure:\n",
    "#\n",
    "fig.show()"
   ]
  },
  {
   "cell_type": "code",
   "execution_count": null,
   "metadata": {},
   "outputs": [],
   "source": [
    "fig.show(renderer='browser')"
   ]
  },
  {
   "cell_type": "markdown",
   "metadata": {},
   "source": [
    "---\n",
    "### Write map\n",
    "\n",
    "Now that we have a finished map let's write it out."
   ]
  },
  {
   "cell_type": "code",
   "execution_count": null,
   "metadata": {},
   "outputs": [],
   "source": [
    "import os\n",
    "\n",
    "if not os.path.exists('./figure-exports'):\n",
    "    os.mkdir('./figure-exports')\n",
    "\n",
    "fig.write_image('./figure-exports/global-plate-tectonics-10yr.png',scale=4)\n",
    "fig.write_html('./figure-exports/global-plate-tectonics-10yr.html')\n",
    "fig.write_json('./figure-exports/global-plate-tectonics-10yr.json')"
   ]
  },
  {
   "attachments": {},
   "cell_type": "markdown",
   "metadata": {},
   "source": [
    "---  \n",
    "GitHub repository: https://github.com/analyticsignal/dynamic-planet.git  \n",
    "Copyright &copy; 2020-2023 Analytic Signal Limited, all rights reserved"
   ]
  }
 ],
 "metadata": {
  "kernelspec": {
   "display_name": "Python 3.9.8 ('.venv': venv)",
   "language": "python",
   "name": "python3"
  },
  "language_info": {
   "codemirror_mode": {
    "name": "ipython",
    "version": 3
   },
   "file_extension": ".py",
   "mimetype": "text/x-python",
   "name": "python",
   "nbconvert_exporter": "python",
   "pygments_lexer": "ipython3",
   "version": "3.9.13"
  },
  "metadata": {
   "interpreter": {
    "hash": "e245b9d4d52625933425f13c940396e11f2ad0cf135519173d3aca2cac5d4603"
   }
  },
  "orig_nbformat": 2,
  "vscode": {
   "interpreter": {
    "hash": "725412f23884018f9b75d8bef97f0b548c67cb67da0ad1d874164e2bc46a8fff"
   }
  }
 },
 "nbformat": 4,
 "nbformat_minor": 2
}
